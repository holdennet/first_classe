{
 "cells": [
  {
   "cell_type": "code",
   "execution_count": 3,
   "id": "c6642319",
   "metadata": {},
   "outputs": [
    {
     "name": "stdout",
     "output_type": "stream",
     "text": [
      "eman\n"
     ]
    }
   ],
   "source": [
    "print (\"eman\")\n",
    "## لانه اسم استرينق"
   ]
  },
  {
   "cell_type": "code",
   "execution_count": 24,
   "id": "e3c04db3",
   "metadata": {},
   "outputs": [
    {
     "name": "stdout",
     "output_type": "stream",
     "text": [
      "696\n"
     ]
    }
   ],
   "source": [
    "x=696\n",
    "print (x)\n",
    "## اطبع قيمة الاكس (رياضيا لانها بدون اقواس)\n"
   ]
  },
  {
   "cell_type": "code",
   "execution_count": 25,
   "id": "3e88dc68",
   "metadata": {},
   "outputs": [
    {
     "data": {
      "text/plain": [
       "int"
      ]
     },
     "execution_count": 25,
     "metadata": {},
     "output_type": "execute_result"
    }
   ],
   "source": [
    "type(x)\n",
    "## طلع نوعها انتيقر"
   ]
  },
  {
   "cell_type": "code",
   "execution_count": null,
   "id": "14770fc8",
   "metadata": {},
   "outputs": [],
   "source": [
    "طلع نوعه انتيقر بدون الاقواس"
   ]
  },
  {
   "cell_type": "code",
   "execution_count": 22,
   "id": "1900ea71",
   "metadata": {},
   "outputs": [
    {
     "name": "stdout",
     "output_type": "stream",
     "text": [
      "969\n"
     ]
    },
    {
     "data": {
      "text/plain": [
       "str"
      ]
     },
     "execution_count": 22,
     "metadata": {},
     "output_type": "execute_result"
    }
   ],
   "source": [
    "y=(\"969\")\n",
    "print (y)\n",
    "type(y)\n",
    "### مع الاقواس تعتبر استرينق ( نص )"
   ]
  },
  {
   "cell_type": "code",
   "execution_count": 27,
   "id": "fc3f0bc4",
   "metadata": {},
   "outputs": [],
   "source": [
    "###طلع نوعه استرينق"
   ]
  },
  {
   "cell_type": "code",
   "execution_count": 31,
   "id": "f22d0cfa",
   "metadata": {},
   "outputs": [
    {
     "name": "stdout",
     "output_type": "stream",
     "text": [
      "696+969\n"
     ]
    }
   ],
   "source": [
    "print(f\"{x}+{y}\")\n",
    "\n",
    "### جمع نوعين متغيره استرينق و انتيقر او اي نوع اخر"
   ]
  },
  {
   "cell_type": "code",
   "execution_count": 32,
   "id": "9114a85f",
   "metadata": {},
   "outputs": [
    {
     "name": "stdout",
     "output_type": "stream",
     "text": [
      "819\n"
     ]
    }
   ],
   "source": [
    "c=123\n",
    "print(x+c) ### جمعها لانها كلها نفس النوع انتيقر عدد صحيح"
   ]
  },
  {
   "cell_type": "code",
   "execution_count": 33,
   "id": "cf0f527f",
   "metadata": {},
   "outputs": [
    {
     "name": "stdout",
     "output_type": "stream",
     "text": [
      "15\n"
     ]
    }
   ],
   "source": [
    "x=5\n",
    "y=10\n",
    "\n",
    "print(x+y)"
   ]
  },
  {
   "cell_type": "code",
   "execution_count": 34,
   "id": "af3c19e2",
   "metadata": {},
   "outputs": [
    {
     "name": "stdout",
     "output_type": "stream",
     "text": [
      "5\n"
     ]
    }
   ],
   "source": [
    "print(x)"
   ]
  },
  {
   "cell_type": "code",
   "execution_count": 35,
   "id": "9c4c71ea",
   "metadata": {},
   "outputs": [
    {
     "name": "stdout",
     "output_type": "stream",
     "text": [
      "50\n"
     ]
    }
   ],
   "source": [
    "print(x*y)"
   ]
  },
  {
   "cell_type": "code",
   "execution_count": 37,
   "id": "1589aed1",
   "metadata": {},
   "outputs": [
    {
     "name": "stdout",
     "output_type": "stream",
     "text": [
      "eman love moh\n"
     ]
    }
   ],
   "source": [
    "x=\"eman \"\n",
    "y=\"moh\"\n",
    "c=\"saad\"\n",
    "d=\"love \"\n",
    "print(x+d+y)"
   ]
  },
  {
   "cell_type": "code",
   "execution_count": null,
   "id": "334172af",
   "metadata": {},
   "outputs": [],
   "source": [
    "### نحط فراغ بعد الاسم اذا تبغي بينها فراغ"
   ]
  },
  {
   "cell_type": "code",
   "execution_count": 38,
   "id": "5f42ffbb",
   "metadata": {},
   "outputs": [
    {
     "name": "stdout",
     "output_type": "stream",
     "text": [
      "emanlovemoh\n"
     ]
    }
   ],
   "source": [
    "x=\"eman\"\n",
    "y=\"moh\"\n",
    "c=\"saad\"\n",
    "d=\"love\"\n",
    "print(x+d+y)"
   ]
  },
  {
   "cell_type": "code",
   "execution_count": 45,
   "id": "1edc24af",
   "metadata": {},
   "outputs": [
    {
     "name": "stdout",
     "output_type": "stream",
     "text": [
      "eman    love     moh\n"
     ]
    }
   ],
   "source": [
    "x=\"eman\"\n",
    "y=\"moh\"\n",
    "c=\"saad\"\n",
    "d=\"love\"\n",
    "print(f\"{x}    {d}     {y}\")\n",
    "## الاف عباره عن فورمات ثم بعدها كوتيشن\n",
    "## {اسمه القوس كيرلي براكت}"
   ]
  },
  {
   "cell_type": "code",
   "execution_count": null,
   "id": "d29e2fea",
   "metadata": {},
   "outputs": [],
   "source": []
  }
 ],
 "metadata": {
  "kernelspec": {
   "display_name": "Python 3",
   "language": "python",
   "name": "python3"
  },
  "language_info": {
   "codemirror_mode": {
    "name": "ipython",
    "version": 3
   },
   "file_extension": ".py",
   "mimetype": "text/x-python",
   "name": "python",
   "nbconvert_exporter": "python",
   "pygments_lexer": "ipython3",
   "version": "3.8.8"
  }
 },
 "nbformat": 4,
 "nbformat_minor": 5
}
